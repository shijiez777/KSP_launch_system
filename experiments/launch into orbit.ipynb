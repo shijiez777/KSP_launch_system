{
 "cells": [
  {
   "cell_type": "markdown",
   "metadata": {},
   "source": [
    "https://krpc.github.io/krpc/tutorials/launch-into-orbit.html"
   ]
  },
  {
   "cell_type": "code",
   "execution_count": 1,
   "metadata": {
    "ExecuteTime": {
     "end_time": "2020-04-17T11:27:24.301878Z",
     "start_time": "2020-04-17T11:27:24.204385Z"
    }
   },
   "outputs": [],
   "source": [
    "import math\n",
    "import time\n",
    "import krpc"
   ]
  },
  {
   "cell_type": "code",
   "execution_count": 2,
   "metadata": {
    "ExecuteTime": {
     "end_time": "2020-04-17T11:27:24.924332Z",
     "start_time": "2020-04-17T11:27:24.303183Z"
    }
   },
   "outputs": [],
   "source": [
    "conn = krpc.connect(name = \"Launch into orbit\")\n",
    "vessel = conn.space_center.active_vessel\n",
    "\n",
    "turn_start_altitude = 250\n",
    "turn_end_altitude = 45000\n",
    "target_altitude = 150000"
   ]
  },
  {
   "cell_type": "code",
   "execution_count": 3,
   "metadata": {
    "ExecuteTime": {
     "end_time": "2020-04-17T11:27:24.942132Z",
     "start_time": "2020-04-17T11:27:24.926875Z"
    }
   },
   "outputs": [],
   "source": [
    "# set up streams for telemetry\n",
    "ut = conn.add_stream(getattr, conn.space_center, 'ut')\n",
    "altitude = conn.add_stream(getattr, vessel.flight(), 'mean_altitude')\n",
    "apoapsis = conn.add_stream(getattr, vessel.orbit, 'apoapsis_altitude')\n",
    "# stage_4_resources = vessel.resources_in_decouple_stage(stage=4, cumulative=False)\n",
    "# srb_fuel = conn.add_stream(stage_4_resources.amount, 'SolidFuel')"
   ]
  },
  {
   "cell_type": "code",
   "execution_count": 4,
   "metadata": {
    "ExecuteTime": {
     "end_time": "2020-04-17T11:27:28.068672Z",
     "start_time": "2020-04-17T11:27:24.943985Z"
    }
   },
   "outputs": [
    {
     "name": "stdout",
     "output_type": "stream",
     "text": [
      "Launch!\n"
     ]
    }
   ],
   "source": [
    "# pre_launch setup\n",
    "vessel.control.sas = False\n",
    "vessel.control.rcs = False\n",
    "vessel.control.throttle = 1.0\n",
    "\n",
    "for i in range(3, 0, -1):\n",
    "    print(i, end = '\\r')\n",
    "    time.sleep(1)\n",
    "print(\"Launch!\")"
   ]
  },
  {
   "cell_type": "markdown",
   "metadata": {},
   "source": [
    "# launching and pitching"
   ]
  },
  {
   "cell_type": "code",
   "execution_count": 5,
   "metadata": {
    "ExecuteTime": {
     "end_time": "2020-04-17T11:29:00.664760Z",
     "start_time": "2020-04-17T11:27:28.070817Z"
    }
   },
   "outputs": [
    {
     "name": "stdout",
     "output_type": "stream",
     "text": [
      "Approaching target apoapsis\n"
     ]
    }
   ],
   "source": [
    "# activate first stage\n",
    "vessel.control.activate_next_stage()\n",
    "vessel.auto_pilot.engage()\n",
    "vessel.auto_pilot.target_pitch_and_heading(90, 90)\n",
    "\n",
    "# Main ascend loop\n",
    "# srbs_separated = False\n",
    "turn_angle = 0\n",
    "\n",
    "while True:\n",
    "    \n",
    "    # Gravity turn\n",
    "    if altitude() > turn_start_altitude and altitude() < turn_end_altitude:\n",
    "        frac = ((altitude() - turn_start_altitude) / (turn_end_altitude - turn_start_altitude))\n",
    "        new_turn_angle = frac * 90\n",
    "        if abs(new_turn_angle - turn_angle) > 0.5:\n",
    "            turn_angle = new_turn_angle\n",
    "            vessel.auto_pilot.target_pitch_and_heading(90 - turn_angle, 90)\n",
    "    \n",
    "    # separate SRBs when fuel depleted\n",
    "#     if not srbs_separated:\n",
    "#         if srb_fuel() < 0.1:\n",
    "#             vessel.control.activate_next_stage()\n",
    "#             srbs_separated = True\n",
    "#             print(\"SRBs separated\")\n",
    "    \n",
    "    # Decrease throttle when approaching target apoapsis\n",
    "    if apoapsis() > target_altitude * 0.9:\n",
    "        print(\"Approaching target apoapsis\")\n",
    "        break"
   ]
  },
  {
   "cell_type": "markdown",
   "metadata": {},
   "source": [
    "# Fine tunes apoapsis, using 10% thrust, then waits until the rocket has left Kerbin atmosphere."
   ]
  },
  {
   "cell_type": "code",
   "execution_count": 6,
   "metadata": {
    "ExecuteTime": {
     "end_time": "2020-04-17T11:29:29.830925Z",
     "start_time": "2020-04-17T11:29:00.666288Z"
    }
   },
   "outputs": [
    {
     "name": "stdout",
     "output_type": "stream",
     "text": [
      "Target apoapsis reached\n",
      "Coasting out of atmosphere\n"
     ]
    }
   ],
   "source": [
    "# Disable engines when target apoapsis is reached\n",
    "vessel.control.throttle = 0.25\n",
    "while apoapsis() < target_altitude:\n",
    "    pass\n",
    "print(\"Target apoapsis reached\")\n",
    "vessel.control.throttle = 0.0\n",
    "time.sleep(5)\n",
    "vessel.control.activate_next_stage()\n",
    "\n",
    "# wait until out of atmosphere\n",
    "print(\"Coasting out of atmosphere\")\n",
    "while altitude() < 70500:\n",
    "    pass"
   ]
  },
  {
   "cell_type": "markdown",
   "metadata": {},
   "source": [
    "# Circularization burn\n",
    "- Calculate delta-v needed to circularize the orbit:  \n",
    "    Vis-viva equation: https://en.wikipedia.org/wiki/Vis-viva_equation\n",
    "- burn time calculation to achieve delta-v:  \n",
    "    Tsiolkovsky rocket equation: https://en.wikipedia.org/wiki/Tsiolkovsky_rocket_equation"
   ]
  },
  {
   "cell_type": "code",
   "execution_count": 8,
   "metadata": {
    "ExecuteTime": {
     "end_time": "2020-04-17T11:29:29.951306Z",
     "start_time": "2020-04-17T11:29:29.858873Z"
    }
   },
   "outputs": [
    {
     "name": "stdout",
     "output_type": "stream",
     "text": [
      "Planning circularization burn\n"
     ]
    }
   ],
   "source": [
    "# plan circularization burn(using vis-viva equation)\n",
    "print(\"Planning circularization burn\")\n",
    "# Delta-v calculation\n",
    "mu = vessel.orbit.body.gravitational_parameter\n",
    "r = vessel.orbit.apoapsis\n",
    "a1 = vessel.orbit.semi_major_axis\n",
    "a2 = r\n",
    "v1 = math.sqrt(mu *((2./r) - (1./a1)))\n",
    "v2 = math.sqrt(mu *((2./r) - (1./a2)))\n",
    "delta_v = v2 - v1\n",
    "\n",
    "# add maneuver node\n",
    "node = vessel.control.add_node(ut() + vessel.orbit.time_to_apoapsis, prograde = delta_v)\n",
    "\n",
    "# Burn time calculation(using rocket equation)\n",
    "F = vessel.available_thrust\n",
    "Isp = vessel.specific_impulse * 9.82\n",
    "m0 = vessel.mass\n",
    "m1 = m0 / math.exp(delta_v/Isp)\n",
    "flow_rate = F / Isp\n",
    "burn_time = (m0 - m1) / flow_rate"
   ]
  },
  {
   "cell_type": "markdown",
   "metadata": {},
   "source": [
    "# Rotate craft and wait till the circularization burn.\n",
    "Align the ship alone the y-axis of maneuver node's reference frame then time warp to 5 secs before the burn"
   ]
  },
  {
   "cell_type": "code",
   "execution_count": 9,
   "metadata": {
    "ExecuteTime": {
     "end_time": "2020-04-17T11:29:45.980111Z",
     "start_time": "2020-04-17T11:29:29.953065Z"
    }
   },
   "outputs": [
    {
     "name": "stdout",
     "output_type": "stream",
     "text": [
      "orientating ship for circularization burn\n",
      "Waiting for the circularization burn\n"
     ]
    }
   ],
   "source": [
    "# orientate ship\n",
    "print(\"orientating ship for circularization burn\")\n",
    "vessel.auto_pilot.reference_frame = node.reference_frame\n",
    "vessel.auto_pilot.target_direction = (0, 1, 0)\n",
    "vessel.auto_pilot.wait()\n",
    "\n",
    "# wait till burn, wrap till burn\n",
    "print(\"Waiting for the circularization burn\")\n",
    "burn_ut = ut() + vessel.orbit.time_to_apoapsis - (burn_time/2.)\n",
    "lead_time = 10\n",
    "conn.space_center.warp_to(burn_ut - lead_time)"
   ]
  },
  {
   "cell_type": "markdown",
   "metadata": {},
   "source": [
    "# Circularization burn\n",
    "- Throttles at max thrust\n",
    "- down throttle to 5% at approx 1/10 of a second before the predicted end of the burn. It monitors the remaining delta-v until it flips around the point retrograde(at which point the node has been executed)"
   ]
  },
  {
   "cell_type": "code",
   "execution_count": 10,
   "metadata": {
    "ExecuteTime": {
     "end_time": "2020-04-17T11:31:08.775997Z",
     "start_time": "2020-04-17T11:29:45.981429Z"
    }
   },
   "outputs": [
    {
     "name": "stdout",
     "output_type": "stream",
     "text": [
      "Ready to execute burn\n",
      "Execiting burn\n",
      "Adjusting burn\n",
      "Launch complete\n"
     ]
    }
   ],
   "source": [
    "# Execute burn\n",
    "print(\"Ready to execute burn\")\n",
    "time_to_apoapsis = conn.add_stream(getattr, vessel.orbit, \"time_to_apoapsis\")\n",
    "while time_to_apoapsis() - (burn_time/2.) > 0:\n",
    "    pass\n",
    "\n",
    "print(\"Executing burn\")\n",
    "vessel.control.throttle = 1.0\n",
    "\n",
    "time.sleep(burn_time - 0.1)\n",
    "print(\"Adjusting burn\")\n",
    "vessel.control.throttle = 0.02\n",
    "remaining_burn = conn.add_stream(node.remaining_burn_vector, node.reference_frame)\n",
    "\n",
    "\n",
    "\n",
    "while remaining_burn()[1] > 0.01:\n",
    "    pass\n",
    "vessel.control.throttle = 0.0\n",
    "node.remove()\n",
    "\n",
    "vessel.auto_pilot.disengage()\n",
    "time.sleep(2)\n",
    "vessel.control.sas = True\n",
    "time.sleep(2)\n",
    "vessel.control.sas_mode = conn.space_center.SASMode.prograde\n",
    "\n",
    "print(\"Launch complete\")"
   ]
  },
  {
   "cell_type": "code",
   "execution_count": null,
   "metadata": {},
   "outputs": [],
   "source": []
  },
  {
   "cell_type": "code",
   "execution_count": null,
   "metadata": {},
   "outputs": [],
   "source": []
  },
  {
   "cell_type": "code",
   "execution_count": null,
   "metadata": {},
   "outputs": [],
   "source": []
  }
 ],
 "metadata": {
  "kernelspec": {
   "display_name": "ksp",
   "language": "python",
   "name": "ksp"
  },
  "language_info": {
   "codemirror_mode": {
    "name": "ipython",
    "version": 3
   },
   "file_extension": ".py",
   "mimetype": "text/x-python",
   "name": "python",
   "nbconvert_exporter": "python",
   "pygments_lexer": "ipython3",
   "version": "3.8.2"
  }
 },
 "nbformat": 4,
 "nbformat_minor": 4
}
