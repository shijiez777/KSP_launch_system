{
 "cells": [
  {
   "cell_type": "markdown",
   "metadata": {},
   "source": [
    "https://krpc.github.io/krpc/tutorials/suborbital-flight.html"
   ]
  },
  {
   "cell_type": "code",
   "execution_count": 5,
   "metadata": {
    "ExecuteTime": {
     "end_time": "2020-04-17T06:49:43.411812Z",
     "start_time": "2020-04-17T06:49:43.409261Z"
    }
   },
   "outputs": [],
   "source": [
    "import krpc\n",
    "import time"
   ]
  },
  {
   "cell_type": "code",
   "execution_count": 2,
   "metadata": {
    "ExecuteTime": {
     "end_time": "2020-04-17T06:48:04.838620Z",
     "start_time": "2020-04-17T06:48:04.385926Z"
    }
   },
   "outputs": [],
   "source": [
    "conn = krpc.connect(name='Sub-orbital flight')"
   ]
  },
  {
   "cell_type": "code",
   "execution_count": 3,
   "metadata": {
    "ExecuteTime": {
     "end_time": "2020-04-17T06:48:06.361267Z",
     "start_time": "2020-04-17T06:48:06.341648Z"
    }
   },
   "outputs": [],
   "source": [
    "vessel = conn.space_center.active_vessel"
   ]
  },
  {
   "cell_type": "code",
   "execution_count": 11,
   "metadata": {
    "ExecuteTime": {
     "end_time": "2020-04-17T07:35:43.687618Z",
     "start_time": "2020-04-17T07:35:43.677636Z"
    }
   },
   "outputs": [
    {
     "data": {
      "text/plain": [
       "30.0"
      ]
     },
     "execution_count": 11,
     "metadata": {},
     "output_type": "execute_result"
    }
   ],
   "source": [
    "vessel.resources.amount(\"SolidFuel\")"
   ]
  },
  {
   "cell_type": "code",
   "execution_count": 7,
   "metadata": {
    "ExecuteTime": {
     "end_time": "2020-04-17T06:54:30.914941Z",
     "start_time": "2020-04-17T06:52:12.569611Z"
    }
   },
   "outputs": [
    {
     "name": "stdout",
     "output_type": "stream",
     "text": [
      "Launch!\n",
      "Gravity turn\n",
      "Launch stage separation\n",
      "Landed!\n"
     ]
    }
   ],
   "source": [
    "# set pitch and heading to 90, keeping it upwards\n",
    "vessel.auto_pilot.target_pitch_and_heading(90, 90)\n",
    "vessel.auto_pilot.engage()\n",
    "# set max throttle\n",
    "vessel.control.throttle = 1\n",
    "# sleep 1 sec to let the settings take effect\n",
    "time.sleep(1)\n",
    "\n",
    "print('Launch!')\n",
    "vessel.control.activate_next_stage()\n",
    "\n",
    "## Jettison booster by an event\n",
    "# fuel_amount = conn.get_call(vessel.resources.amount, 'SolidFuel')\n",
    "# expr = conn.krpc.Expression.less_than(\n",
    "#     conn.krpc.Expression.call(fuel_amount),\n",
    "#     conn.krpc.Expression.constant_float(0.1))\n",
    "# event = conn.krpc.add_event(expr)\n",
    "# with event.condition:\n",
    "#     event.wait()\n",
    "# print('Booster separation')\n",
    "# vessel.control.activate_next_stage()\n",
    "\n",
    "\n",
    "## Wait till altitude is higher than 10000, then do a gravity turn\n",
    "mean_altitude = conn.get_call(getattr, vessel.flight(), 'mean_altitude')\n",
    "expr = conn.krpc.Expression.greater_than(\n",
    "    conn.krpc.Expression.call(mean_altitude),\n",
    "    conn.krpc.Expression.constant_double(10000))\n",
    "event = conn.krpc.add_event(expr)\n",
    "with event.condition:\n",
    "    event.wait()\n",
    "    \n",
    "print('Gravity turn')\n",
    "vessel.auto_pilot.target_pitch_and_heading(60, 90)    \n",
    "\n",
    "## Wait till apoapsis reach 100000, then reduce the throttle to 0.\n",
    "apoapsis_altitude = conn.get_call(getattr, vessel.orbit, 'apoapsis_altitude')\n",
    "expr = conn.krpc.Expression.greater_than(\n",
    "    conn.krpc.Expression.call(apoapsis_altitude),\n",
    "    conn.krpc.Expression.constant_double(100000))\n",
    "event = conn.krpc.add_event(expr)\n",
    "with event.condition:\n",
    "    event.wait()\n",
    "\n",
    "print('Launch stage separation')\n",
    "# stop throttle\n",
    "vessel.control.throttle = 0\n",
    "time.sleep(1)\n",
    "# next stage\n",
    "vessel.control.activate_next_stage()\n",
    "# turn off autopilot\n",
    "vessel.auto_pilot.disengage()\n",
    "\n",
    "## surface altitude, and activate next stage(landing)\n",
    "# when surface altitude reach 1000\n",
    "srf_altitude = conn.get_call(getattr, vessel.flight(), 'surface_altitude')\n",
    "expr = conn.krpc.Expression.less_than(\n",
    "    conn.krpc.Expression.call(srf_altitude),\n",
    "    conn.krpc.Expression.constant_double(1000))\n",
    "event = conn.krpc.add_event(expr)\n",
    "with event.condition:\n",
    "    event.wait()\n",
    "\n",
    "# activate landing stage\n",
    "vessel.control.activate_next_stage()\n",
    "# when velocity reaches -0.1, declare landing.\n",
    "while vessel.flight(vessel.orbit.body.reference_frame).vertical_speed < -0.1:\n",
    "    print('Altitude = %.1f meters' % vessel.flight().surface_altitude)\n",
    "    time.sleep(1)\n",
    "print('Landed!')"
   ]
  },
  {
   "cell_type": "code",
   "execution_count": null,
   "metadata": {},
   "outputs": [],
   "source": []
  },
  {
   "cell_type": "code",
   "execution_count": null,
   "metadata": {},
   "outputs": [],
   "source": []
  },
  {
   "cell_type": "code",
   "execution_count": null,
   "metadata": {},
   "outputs": [],
   "source": []
  },
  {
   "cell_type": "code",
   "execution_count": null,
   "metadata": {},
   "outputs": [],
   "source": []
  },
  {
   "cell_type": "code",
   "execution_count": null,
   "metadata": {},
   "outputs": [],
   "source": []
  },
  {
   "cell_type": "code",
   "execution_count": null,
   "metadata": {},
   "outputs": [],
   "source": []
  },
  {
   "cell_type": "code",
   "execution_count": null,
   "metadata": {},
   "outputs": [],
   "source": []
  },
  {
   "cell_type": "code",
   "execution_count": null,
   "metadata": {},
   "outputs": [],
   "source": []
  },
  {
   "cell_type": "code",
   "execution_count": null,
   "metadata": {},
   "outputs": [],
   "source": []
  },
  {
   "cell_type": "code",
   "execution_count": null,
   "metadata": {},
   "outputs": [],
   "source": []
  },
  {
   "cell_type": "code",
   "execution_count": null,
   "metadata": {},
   "outputs": [],
   "source": []
  },
  {
   "cell_type": "code",
   "execution_count": null,
   "metadata": {},
   "outputs": [],
   "source": []
  }
 ],
 "metadata": {
  "kernelspec": {
   "display_name": "ksp",
   "language": "python",
   "name": "ksp"
  },
  "language_info": {
   "codemirror_mode": {
    "name": "ipython",
    "version": 3
   },
   "file_extension": ".py",
   "mimetype": "text/x-python",
   "name": "python",
   "nbconvert_exporter": "python",
   "pygments_lexer": "ipython3",
   "version": "3.8.2"
  }
 },
 "nbformat": 4,
 "nbformat_minor": 4
}
