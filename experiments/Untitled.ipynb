{
 "cells": [
  {
   "cell_type": "markdown",
   "metadata": {},
   "source": [
    "# KSP Kerbal radius: 600000 m\n",
    "# Orbital altitude: 90000 m"
   ]
  },
  {
   "cell_type": "code",
   "execution_count": 17,
   "metadata": {
    "ExecuteTime": {
     "end_time": "2020-04-17T05:26:53.700724Z",
     "start_time": "2020-04-17T05:26:53.696314Z"
    }
   },
   "outputs": [],
   "source": [
    "import time\n",
    "import krpc"
   ]
  },
  {
   "cell_type": "code",
   "execution_count": 35,
   "metadata": {
    "ExecuteTime": {
     "end_time": "2020-04-17T05:32:01.680407Z",
     "start_time": "2020-04-17T05:32:01.275395Z"
    }
   },
   "outputs": [],
   "source": [
    "conn = krpc.connect()"
   ]
  },
  {
   "cell_type": "code",
   "execution_count": 36,
   "metadata": {
    "ExecuteTime": {
     "end_time": "2020-04-17T05:32:02.526679Z",
     "start_time": "2020-04-17T05:32:02.510771Z"
    }
   },
   "outputs": [],
   "source": [
    "vessel = conn.space_center.active_vessel"
   ]
  },
  {
   "cell_type": "code",
   "execution_count": 37,
   "metadata": {
    "ExecuteTime": {
     "end_time": "2020-04-17T05:32:03.212246Z",
     "start_time": "2020-04-17T05:32:03.204482Z"
    }
   },
   "outputs": [
    {
     "data": {
      "text/plain": [
       "0.0"
      ]
     },
     "execution_count": 37,
     "metadata": {},
     "output_type": "execute_result"
    }
   ],
   "source": [
    "vessel.control.throttle"
   ]
  },
  {
   "cell_type": "code",
   "execution_count": 22,
   "metadata": {
    "ExecuteTime": {
     "end_time": "2020-04-17T05:27:27.333108Z",
     "start_time": "2020-04-17T05:27:27.310807Z"
    }
   },
   "outputs": [],
   "source": [
    "vessel.control.throttle = 1"
   ]
  },
  {
   "cell_type": "code",
   "execution_count": 29,
   "metadata": {
    "ExecuteTime": {
     "end_time": "2020-04-17T05:28:01.580296Z",
     "start_time": "2020-04-17T05:28:01.572160Z"
    }
   },
   "outputs": [
    {
     "data": {
      "text/plain": [
       "600096.4760203193"
      ]
     },
     "execution_count": 29,
     "metadata": {},
     "output_type": "execute_result"
    }
   ],
   "source": [
    "vessel.orbit.apoapsis"
   ]
  },
  {
   "cell_type": "code",
   "execution_count": 30,
   "metadata": {
    "ExecuteTime": {
     "end_time": "2020-04-17T05:28:09.414260Z",
     "start_time": "2020-04-17T05:28:09.395494Z"
    }
   },
   "outputs": [
    {
     "data": {
      "text/plain": [
       "96.47602144256234"
      ]
     },
     "execution_count": 30,
     "metadata": {},
     "output_type": "execute_result"
    }
   ],
   "source": [
    "vessel.orbit.apoapsis_altitude"
   ]
  },
  {
   "cell_type": "code",
   "execution_count": 40,
   "metadata": {
    "ExecuteTime": {
     "end_time": "2020-04-17T05:32:39.228328Z",
     "start_time": "2020-04-17T05:32:39.211401Z"
    }
   },
   "outputs": [
    {
     "data": {
      "text/plain": [
       "600096.4004784841"
      ]
     },
     "execution_count": 40,
     "metadata": {},
     "output_type": "execute_result"
    }
   ],
   "source": [
    "vessel.orbit.apoapsis"
   ]
  },
  {
   "cell_type": "code",
   "execution_count": 44,
   "metadata": {
    "ExecuteTime": {
     "end_time": "2020-04-17T05:32:51.462304Z",
     "start_time": "2020-04-17T05:32:51.453650Z"
    }
   },
   "outputs": [
    {
     "data": {
      "text/plain": [
       "96.40047809982207"
      ]
     },
     "execution_count": 44,
     "metadata": {},
     "output_type": "execute_result"
    }
   ],
   "source": [
    "vessel.flight().mean_altitude"
   ]
  },
  {
   "cell_type": "code",
   "execution_count": 43,
   "metadata": {
    "ExecuteTime": {
     "end_time": "2020-04-17T05:32:48.630869Z",
     "start_time": "2020-04-17T05:32:48.623138Z"
    }
   },
   "outputs": [
    {
     "data": {
      "text/plain": [
       "270.3953552246094"
      ]
     },
     "execution_count": 43,
     "metadata": {},
     "output_type": "execute_result"
    }
   ],
   "source": [
    "vessel.flight().heading"
   ]
  },
  {
   "cell_type": "code",
   "execution_count": 48,
   "metadata": {
    "ExecuteTime": {
     "end_time": "2020-04-17T05:42:52.088950Z",
     "start_time": "2020-04-17T05:42:51.619427Z"
    }
   },
   "outputs": [],
   "source": [
    "conn = krpc.connect()\n",
    "\n",
    "vessel = conn.space_center.active_vessel"
   ]
  },
  {
   "cell_type": "code",
   "execution_count": 50,
   "metadata": {
    "ExecuteTime": {
     "end_time": "2020-04-17T05:42:59.338640Z",
     "start_time": "2020-04-17T05:42:59.328002Z"
    }
   },
   "outputs": [],
   "source": [
    "vessel.control.pitch = 0.5"
   ]
  },
  {
   "cell_type": "code",
   "execution_count": 57,
   "metadata": {
    "ExecuteTime": {
     "end_time": "2020-04-17T06:03:35.795238Z",
     "start_time": "2020-04-17T06:03:35.774348Z"
    }
   },
   "outputs": [
    {
     "data": {
      "text/plain": [
       "89.80193328857422"
      ]
     },
     "execution_count": 57,
     "metadata": {},
     "output_type": "execute_result"
    }
   ],
   "source": [
    "vessel.flight().heading\n"
   ]
  },
  {
   "cell_type": "code",
   "execution_count": 61,
   "metadata": {
    "ExecuteTime": {
     "end_time": "2020-04-17T06:09:44.884920Z",
     "start_time": "2020-04-17T06:09:44.879876Z"
    }
   },
   "outputs": [
    {
     "data": {
      "text/plain": [
       "50022.77789122844"
      ]
     },
     "execution_count": 61,
     "metadata": {},
     "output_type": "execute_result"
    }
   ],
   "source": [
    "altitude"
   ]
  },
  {
   "cell_type": "code",
   "execution_count": null,
   "metadata": {},
   "outputs": [],
   "source": []
  },
  {
   "cell_type": "code",
   "execution_count": 62,
   "metadata": {
    "ExecuteTime": {
     "end_time": "2020-04-17T06:15:38.664459Z",
     "start_time": "2020-04-17T06:11:03.577623Z"
    },
    "scrolled": true
   },
   "outputs": [
    {
     "name": "stdout",
     "output_type": "stream",
     "text": [
      "Three\n",
      "Two\n",
      "One\n",
      "Lift off!\n",
      "apoapsis greater than 690000, separating main engine00744628906257559.78267290563352 , currentPitch:  87.40777587890625 89.77506555247189 , currentPitch:  87.14871215820312 89.6879772046909 , currentPitch:  85.75103759765625 85.68344116210938 89.49541597855165 , currentPitch:  86.09814453125 89.37790304559718 , currentPitch:  86.66650390625 88.76921569250194 , currentPitch:  85.8764953613281287.77039202901446 , currentPitch:  83.66128540039062 87.29774650074046 , currentPitch:  83.6927490234375 87.1161606389494 , currentPitch:  83.56439208984375 86.05330617667094 , currentPitch:  82.03668212890625 79.4153905189912 , currentPitch:  78.70364379882812 77.99614669774252 , currentPitch:  77.87966918945312 77.11235448013196 , currentPitch:  77.44921875 72.18065595352147 , currentPitch:  75.33193969726562 74.685302734375 70.232289512878 , currentPitch:  74.40576171875 65.16992721121728 , currentPitch:  71.68487548828125 63.75996905290587 , currentPitch:  70.76156616210938 53.627512685529865 , currentPitch:  62.46661376953125 53.34353006705003 , currentPitch:  62.19873046875 52.48356568624119 , currentPitch:  61.382720947265625 46.096567621308665 , currentPitch:  55.17196655273437541.23371394236849 , currentPitch:  50.249481201171875 39.879780877727576 , currentPitch:  48.77197265625\n",
      "entering cruise phase\n",
      "entering insertion phase\n"
     ]
    },
    {
     "ename": "KeyboardInterrupt",
     "evalue": "",
     "output_type": "error",
     "traceback": [
      "\u001b[0;31m---------------------------------------------------------------------------\u001b[0m",
      "\u001b[0;31mKeyboardInterrupt\u001b[0m                         Traceback (most recent call last)",
      "\u001b[0;32m<ipython-input-62-931304731366>\u001b[0m in \u001b[0;36m<module>\u001b[0;34m\u001b[0m\n\u001b[1;32m     67\u001b[0m         \u001b[0;31m# trying to increase velocity instead of altitude\u001b[0m\u001b[0;34m\u001b[0m\u001b[0;34m\u001b[0m\u001b[0;34m\u001b[0m\u001b[0m\n\u001b[1;32m     68\u001b[0m         \u001b[0mtargetPitch\u001b[0m \u001b[0;34m=\u001b[0m \u001b[0;36m0\u001b[0m\u001b[0;34m\u001b[0m\u001b[0;34m\u001b[0m\u001b[0m\n\u001b[0;32m---> 69\u001b[0;31m         \u001b[0mpitchDiff\u001b[0m \u001b[0;34m=\u001b[0m \u001b[0mvessel\u001b[0m\u001b[0;34m.\u001b[0m\u001b[0mflight\u001b[0m\u001b[0;34m(\u001b[0m\u001b[0;34m)\u001b[0m\u001b[0;34m.\u001b[0m\u001b[0mpitch\u001b[0m \u001b[0;34m-\u001b[0m \u001b[0mtargetPitch\u001b[0m\u001b[0;34m\u001b[0m\u001b[0;34m\u001b[0m\u001b[0m\n\u001b[0m\u001b[1;32m     70\u001b[0m \u001b[0;34m\u001b[0m\u001b[0m\n\u001b[1;32m     71\u001b[0m         \u001b[0;31m# heading control\u001b[0m\u001b[0;34m\u001b[0m\u001b[0;34m\u001b[0m\u001b[0;34m\u001b[0m\u001b[0m\n",
      "\u001b[0;32m<string>\u001b[0m in \u001b[0;36m<lambda>\u001b[0;34m(self, reference_frame)\u001b[0m\n",
      "\u001b[0;32m~/anaconda3/envs/ksp/lib/python3.8/site-packages/krpc/client.py\u001b[0m in \u001b[0;36m_invoke\u001b[0;34m(self, service, procedure, args, param_names, param_types, return_type)\u001b[0m\n\u001b[1;32m    145\u001b[0m \u001b[0;34m\u001b[0m\u001b[0m\n\u001b[1;32m    146\u001b[0m         \u001b[0;31m# Build the request\u001b[0m\u001b[0;34m\u001b[0m\u001b[0;34m\u001b[0m\u001b[0;34m\u001b[0m\u001b[0m\n\u001b[0;32m--> 147\u001b[0;31m         call = self._build_call(service, procedure, args,\n\u001b[0m\u001b[1;32m    148\u001b[0m                                 param_names, param_types, return_type)\n\u001b[1;32m    149\u001b[0m         \u001b[0mrequest\u001b[0m \u001b[0;34m=\u001b[0m \u001b[0mKRPC\u001b[0m\u001b[0;34m.\u001b[0m\u001b[0mRequest\u001b[0m\u001b[0;34m(\u001b[0m\u001b[0;34m)\u001b[0m\u001b[0;34m\u001b[0m\u001b[0;34m\u001b[0m\u001b[0m\n",
      "\u001b[0;32m~/anaconda3/envs/ksp/lib/python3.8/site-packages/krpc/client.py\u001b[0m in \u001b[0;36m_build_call\u001b[0;34m(self, service, procedure, args, param_names, param_types, return_type)\u001b[0m\n\u001b[1;32m    190\u001b[0m                         \u001b[0;34m'%s.%s() argument %d must be a %s, got a %s'\u001b[0m \u001b[0;34m%\u001b[0m\u001b[0;34m\u001b[0m\u001b[0;34m\u001b[0m\u001b[0m\n\u001b[1;32m    191\u001b[0m                         (service, procedure, i, typ.python_type, type(value)))\n\u001b[0;32m--> 192\u001b[0;31m             \u001b[0mcall\u001b[0m\u001b[0;34m.\u001b[0m\u001b[0marguments\u001b[0m\u001b[0;34m.\u001b[0m\u001b[0madd\u001b[0m\u001b[0;34m(\u001b[0m\u001b[0mposition\u001b[0m\u001b[0;34m=\u001b[0m\u001b[0mi\u001b[0m\u001b[0;34m,\u001b[0m \u001b[0mvalue\u001b[0m\u001b[0;34m=\u001b[0m\u001b[0mEncoder\u001b[0m\u001b[0;34m.\u001b[0m\u001b[0mencode\u001b[0m\u001b[0;34m(\u001b[0m\u001b[0mvalue\u001b[0m\u001b[0;34m,\u001b[0m \u001b[0mtyp\u001b[0m\u001b[0;34m)\u001b[0m\u001b[0;34m)\u001b[0m\u001b[0;34m\u001b[0m\u001b[0;34m\u001b[0m\u001b[0m\n\u001b[0m\u001b[1;32m    193\u001b[0m \u001b[0;34m\u001b[0m\u001b[0m\n\u001b[1;32m    194\u001b[0m         \u001b[0;32mreturn\u001b[0m \u001b[0mcall\u001b[0m\u001b[0;34m\u001b[0m\u001b[0;34m\u001b[0m\u001b[0m\n",
      "\u001b[0;32m~/anaconda3/envs/ksp/lib/python3.8/site-packages/krpc/encoder.py\u001b[0m in \u001b[0;36mencode\u001b[0;34m(cls, x, typ)\u001b[0m\n\u001b[1;32m     59\u001b[0m         \u001b[0;32melif\u001b[0m \u001b[0misinstance\u001b[0m\u001b[0;34m(\u001b[0m\u001b[0mtyp\u001b[0m\u001b[0;34m,\u001b[0m \u001b[0mClassType\u001b[0m\u001b[0;34m)\u001b[0m\u001b[0;34m:\u001b[0m\u001b[0;34m\u001b[0m\u001b[0;34m\u001b[0m\u001b[0m\n\u001b[1;32m     60\u001b[0m             \u001b[0mobject_id\u001b[0m \u001b[0;34m=\u001b[0m \u001b[0mx\u001b[0m\u001b[0;34m.\u001b[0m\u001b[0m_object_id\u001b[0m \u001b[0;32mif\u001b[0m \u001b[0mx\u001b[0m \u001b[0;32mis\u001b[0m \u001b[0;32mnot\u001b[0m \u001b[0;32mNone\u001b[0m \u001b[0;32melse\u001b[0m \u001b[0;36m0\u001b[0m\u001b[0;34m\u001b[0m\u001b[0;34m\u001b[0m\u001b[0m\n\u001b[0;32m---> 61\u001b[0;31m             \u001b[0;32mreturn\u001b[0m \u001b[0mcls\u001b[0m\u001b[0;34m.\u001b[0m\u001b[0m_encode_value\u001b[0m\u001b[0;34m(\u001b[0m\u001b[0mobject_id\u001b[0m\u001b[0;34m,\u001b[0m \u001b[0mcls\u001b[0m\u001b[0;34m.\u001b[0m\u001b[0m_types\u001b[0m\u001b[0;34m.\u001b[0m\u001b[0muint64_type\u001b[0m\u001b[0;34m)\u001b[0m\u001b[0;34m\u001b[0m\u001b[0;34m\u001b[0m\u001b[0m\n\u001b[0m\u001b[1;32m     62\u001b[0m         \u001b[0;32melif\u001b[0m \u001b[0misinstance\u001b[0m\u001b[0;34m(\u001b[0m\u001b[0mtyp\u001b[0m\u001b[0;34m,\u001b[0m \u001b[0mListType\u001b[0m\u001b[0;34m)\u001b[0m\u001b[0;34m:\u001b[0m\u001b[0;34m\u001b[0m\u001b[0;34m\u001b[0m\u001b[0m\n\u001b[1;32m     63\u001b[0m             \u001b[0mmsg\u001b[0m \u001b[0;34m=\u001b[0m \u001b[0mKRPC\u001b[0m\u001b[0;34m.\u001b[0m\u001b[0mList\u001b[0m\u001b[0;34m(\u001b[0m\u001b[0;34m)\u001b[0m\u001b[0;34m\u001b[0m\u001b[0;34m\u001b[0m\u001b[0m\n",
      "\u001b[0;32m~/anaconda3/envs/ksp/lib/python3.8/site-packages/krpc/encoder.py\u001b[0m in \u001b[0;36m_encode_value\u001b[0;34m(cls, value, typ)\u001b[0m\n\u001b[1;32m    100\u001b[0m     \u001b[0;34m@\u001b[0m\u001b[0mclassmethod\u001b[0m\u001b[0;34m\u001b[0m\u001b[0;34m\u001b[0m\u001b[0m\n\u001b[1;32m    101\u001b[0m     \u001b[0;32mdef\u001b[0m \u001b[0m_encode_value\u001b[0m\u001b[0;34m(\u001b[0m\u001b[0mcls\u001b[0m\u001b[0;34m,\u001b[0m \u001b[0mvalue\u001b[0m\u001b[0;34m,\u001b[0m \u001b[0mtyp\u001b[0m\u001b[0;34m)\u001b[0m\u001b[0;34m:\u001b[0m\u001b[0;34m\u001b[0m\u001b[0;34m\u001b[0m\u001b[0m\n\u001b[0;32m--> 102\u001b[0;31m         \u001b[0;32mif\u001b[0m \u001b[0mtyp\u001b[0m\u001b[0;34m.\u001b[0m\u001b[0mprotobuf_type\u001b[0m\u001b[0;34m.\u001b[0m\u001b[0mcode\u001b[0m \u001b[0;34m==\u001b[0m \u001b[0mKRPC\u001b[0m\u001b[0;34m.\u001b[0m\u001b[0mType\u001b[0m\u001b[0;34m.\u001b[0m\u001b[0mSINT32\u001b[0m\u001b[0;34m:\u001b[0m\u001b[0;34m\u001b[0m\u001b[0;34m\u001b[0m\u001b[0m\n\u001b[0m\u001b[1;32m    103\u001b[0m             \u001b[0;32mreturn\u001b[0m \u001b[0m_ValueEncoder\u001b[0m\u001b[0;34m.\u001b[0m\u001b[0mencode_sint32\u001b[0m\u001b[0;34m(\u001b[0m\u001b[0mvalue\u001b[0m\u001b[0;34m)\u001b[0m\u001b[0;34m\u001b[0m\u001b[0;34m\u001b[0m\u001b[0m\n\u001b[1;32m    104\u001b[0m         \u001b[0;32melif\u001b[0m \u001b[0mtyp\u001b[0m\u001b[0;34m.\u001b[0m\u001b[0mprotobuf_type\u001b[0m\u001b[0;34m.\u001b[0m\u001b[0mcode\u001b[0m \u001b[0;34m==\u001b[0m \u001b[0mKRPC\u001b[0m\u001b[0;34m.\u001b[0m\u001b[0mType\u001b[0m\u001b[0;34m.\u001b[0m\u001b[0mSINT64\u001b[0m\u001b[0;34m:\u001b[0m\u001b[0;34m\u001b[0m\u001b[0;34m\u001b[0m\u001b[0m\n",
      "\u001b[0;31mKeyboardInterrupt\u001b[0m: "
     ]
    }
   ],
   "source": [
    "conn = krpc.connect()\n",
    "\n",
    "vessel = conn.space_center.active_vessel\n",
    "\n",
    "# countdown sequence\n",
    "countdown = [\"Three\", \"Two\", \"One\", \"Lift off!\"]\n",
    "\n",
    "for t in countdown:\n",
    "    print(t)\n",
    "    time.sleep(1)\n",
    "\n",
    "vessel.control.throttle = 1\n",
    "vessel.control.activate_next_stage()\n",
    "\n",
    "# flight states\n",
    "accendPhase = True\n",
    "cruisePhase = False\n",
    "insertionPhase = False\n",
    "\n",
    "while accendPhase or cruisePhase or insertionPhase:\n",
    "    altitude = vessel.flight().mean_altitude\n",
    "    heading = vessel.flight().heading\n",
    "    pitch = vessel.flight().pitch\n",
    "    \n",
    "    if accendPhase:\n",
    "        # TODO: accelerate while tilt\n",
    "        targetPitch = 90 * ((50000 - altitude) / 50000)\n",
    "        pitchDiff = pitch - targetPitch\n",
    "        print(\"targetPitch: \", targetPitch, \", currentPitch: \", pitch, end = '\\r')\n",
    "\n",
    "        # heading control\n",
    "        if heading < 180:\n",
    "        # if heading is on the right half of the globe, yaw gradually\n",
    "            vessel.control.yaw = pitchDiff / 90\n",
    "        # else, if the heading is to the left half, turn to right\n",
    "        else:\n",
    "            vessel.control.yaw = 0.5\n",
    "        \n",
    "        # staging\n",
    "        if vessel.thrust == 0.0:\n",
    "            print(\"no thrust\")\n",
    "            vessel.control.activate_next_stage()\n",
    "        \n",
    "        # MECO main engine cut off\n",
    "        if vessel.orbit.apoapsis > 690000:\n",
    "            print(\"apoapsis greater than 690000, separating main engine\")\n",
    "            vessel.control.throttle = 0\n",
    "            time.sleep(0.5)\n",
    "            vessel.control.activate_next_stage()\n",
    "\n",
    "            vessel.control.sas = True\n",
    "            time.sleep(0.1)\n",
    "            vessel.control.sas_mode = conn.space_center.SASMode.prograde\n",
    "\n",
    "            accendPhase = False\n",
    "            cruisePhase = True\n",
    "            print(\"entering cruise phase\")\n",
    "    \n",
    "    # phase during when cruising up to 80000 m Altitude\n",
    "    elif cruisePhase:\n",
    "        if altitude > 80000:\n",
    "            cruisePhase = False\n",
    "            insertionPhase = True\n",
    "            vessel.control.sas = False\n",
    "            vessel.control.throttle = 1\n",
    "            print(\"entering insertion phase\")\n",
    "    \n",
    "    elif insertionPhase:\n",
    "        # trying to increase velocity instead of altitude\n",
    "        targetPitch = 0\n",
    "        pitchDiff = vessel.flight().pitch - targetPitch\n",
    "\n",
    "        # heading control\n",
    "        if heading < 180:\n",
    "            vessel.control.yaw = pitchDiff / 90\n",
    "\n",
    "            if vessel.flight().pitch < 1 and vessel.flight().pitch > -1:\n",
    "                vessel.control.sas = True\n",
    "#             else:\n",
    "#                 vessel.control.sas = False\n",
    "        else:\n",
    "            vessel.control.yaw = 0.5\n",
    "        \n",
    "        # SECO\n",
    "        if vessel.orbit.periapsis > 690000:\n",
    "            print(\"Periapsis reached orbital, separating second stage\")\n",
    "            vessel.control.throttle = 0\n",
    "            insertionPhase = False\n",
    "        \n",
    "        # staging \n",
    "        if vessel.thrust == 0.0:\n",
    "            vessel.control.activate_next_stage()\n",
    "    \n",
    "\n"
   ]
  },
  {
   "cell_type": "code",
   "execution_count": null,
   "metadata": {},
   "outputs": [],
   "source": [
    "0, 0, 1"
   ]
  },
  {
   "cell_type": "code",
   "execution_count": 72,
   "metadata": {
    "ExecuteTime": {
     "end_time": "2020-04-17T06:21:57.407655Z",
     "start_time": "2020-04-17T06:21:12.464048Z"
    }
   },
   "outputs": [
    {
     "name": "stdout",
     "output_type": "stream",
     "text": [
      "(0.34198449381061946, 0.04533998459917801, 0.9386111504716108) 87.234458923339848033175\r"
     ]
    },
    {
     "ename": "KeyboardInterrupt",
     "evalue": "",
     "output_type": "error",
     "traceback": [
      "\u001b[0;31m---------------------------------------------------------------------------\u001b[0m",
      "\u001b[0;31mKeyboardInterrupt\u001b[0m                         Traceback (most recent call last)",
      "\u001b[0;32m<ipython-input-72-db8e8f3f7669>\u001b[0m in \u001b[0;36m<module>\u001b[0;34m\u001b[0m\n\u001b[1;32m      1\u001b[0m \u001b[0;32mwhile\u001b[0m \u001b[0;36m1\u001b[0m\u001b[0;34m:\u001b[0m\u001b[0;34m\u001b[0m\u001b[0;34m\u001b[0m\u001b[0m\n\u001b[0;32m----> 2\u001b[0;31m     \u001b[0mprint\u001b[0m\u001b[0;34m(\u001b[0m\u001b[0mvessel\u001b[0m\u001b[0;34m.\u001b[0m\u001b[0mflight\u001b[0m\u001b[0;34m(\u001b[0m\u001b[0;34m)\u001b[0m\u001b[0;34m.\u001b[0m\u001b[0mdirection\u001b[0m\u001b[0;34m,\u001b[0m \u001b[0mvessel\u001b[0m\u001b[0;34m.\u001b[0m\u001b[0mflight\u001b[0m\u001b[0;34m(\u001b[0m\u001b[0;34m)\u001b[0m\u001b[0;34m.\u001b[0m\u001b[0mheading\u001b[0m\u001b[0;34m,\u001b[0m \u001b[0mend\u001b[0m\u001b[0;34m=\u001b[0m\u001b[0;34m'\\r'\u001b[0m\u001b[0;34m)\u001b[0m\u001b[0;34m\u001b[0m\u001b[0;34m\u001b[0m\u001b[0m\n\u001b[0m\u001b[1;32m      3\u001b[0m     \u001b[0mtime\u001b[0m\u001b[0;34m.\u001b[0m\u001b[0msleep\u001b[0m\u001b[0;34m(\u001b[0m\u001b[0;36m1\u001b[0m\u001b[0;34m)\u001b[0m\u001b[0;34m\u001b[0m\u001b[0;34m\u001b[0m\u001b[0m\n",
      "\u001b[0;32m<string>\u001b[0m in \u001b[0;36m<lambda>\u001b[0;34m(self, reference_frame)\u001b[0m\n",
      "\u001b[0;32m~/anaconda3/envs/ksp/lib/python3.8/site-packages/krpc/client.py\u001b[0m in \u001b[0;36m_invoke\u001b[0;34m(self, service, procedure, args, param_names, param_types, return_type)\u001b[0m\n\u001b[1;32m    153\u001b[0m         \u001b[0;32mwith\u001b[0m \u001b[0mself\u001b[0m\u001b[0;34m.\u001b[0m\u001b[0m_rpc_connection_lock\u001b[0m\u001b[0;34m:\u001b[0m\u001b[0;34m\u001b[0m\u001b[0;34m\u001b[0m\u001b[0m\n\u001b[1;32m    154\u001b[0m             \u001b[0mself\u001b[0m\u001b[0;34m.\u001b[0m\u001b[0m_rpc_connection\u001b[0m\u001b[0;34m.\u001b[0m\u001b[0msend_message\u001b[0m\u001b[0;34m(\u001b[0m\u001b[0mrequest\u001b[0m\u001b[0;34m)\u001b[0m\u001b[0;34m\u001b[0m\u001b[0;34m\u001b[0m\u001b[0m\n\u001b[0;32m--> 155\u001b[0;31m             \u001b[0mresponse\u001b[0m \u001b[0;34m=\u001b[0m \u001b[0mself\u001b[0m\u001b[0;34m.\u001b[0m\u001b[0m_rpc_connection\u001b[0m\u001b[0;34m.\u001b[0m\u001b[0mreceive_message\u001b[0m\u001b[0;34m(\u001b[0m\u001b[0mKRPC\u001b[0m\u001b[0;34m.\u001b[0m\u001b[0mResponse\u001b[0m\u001b[0;34m)\u001b[0m\u001b[0;34m\u001b[0m\u001b[0;34m\u001b[0m\u001b[0m\n\u001b[0m\u001b[1;32m    156\u001b[0m \u001b[0;34m\u001b[0m\u001b[0m\n\u001b[1;32m    157\u001b[0m         \u001b[0;31m# Check for an error response\u001b[0m\u001b[0;34m\u001b[0m\u001b[0;34m\u001b[0m\u001b[0;34m\u001b[0m\u001b[0m\n",
      "\u001b[0;32m~/anaconda3/envs/ksp/lib/python3.8/site-packages/krpc/connection.py\u001b[0m in \u001b[0;36mreceive_message\u001b[0;34m(self, typ)\u001b[0m\n\u001b[1;32m     33\u001b[0m         \u001b[0;32mwhile\u001b[0m \u001b[0;32mTrue\u001b[0m\u001b[0;34m:\u001b[0m\u001b[0;34m\u001b[0m\u001b[0;34m\u001b[0m\u001b[0m\n\u001b[1;32m     34\u001b[0m             \u001b[0;32mtry\u001b[0m\u001b[0;34m:\u001b[0m\u001b[0;34m\u001b[0m\u001b[0;34m\u001b[0m\u001b[0m\n\u001b[0;32m---> 35\u001b[0;31m                 \u001b[0mdata\u001b[0m \u001b[0;34m+=\u001b[0m \u001b[0mself\u001b[0m\u001b[0;34m.\u001b[0m\u001b[0mpartial_receive\u001b[0m\u001b[0;34m(\u001b[0m\u001b[0;36m1\u001b[0m\u001b[0;34m)\u001b[0m\u001b[0;34m\u001b[0m\u001b[0;34m\u001b[0m\u001b[0m\n\u001b[0m\u001b[1;32m     36\u001b[0m                 \u001b[0msize\u001b[0m \u001b[0;34m=\u001b[0m \u001b[0mDecoder\u001b[0m\u001b[0;34m.\u001b[0m\u001b[0mdecode_message_size\u001b[0m\u001b[0;34m(\u001b[0m\u001b[0mdata\u001b[0m\u001b[0;34m)\u001b[0m\u001b[0;34m\u001b[0m\u001b[0;34m\u001b[0m\u001b[0m\n\u001b[1;32m     37\u001b[0m                 \u001b[0;32mbreak\u001b[0m\u001b[0;34m\u001b[0m\u001b[0;34m\u001b[0m\u001b[0m\n",
      "\u001b[0;32m~/anaconda3/envs/ksp/lib/python3.8/site-packages/krpc/connection.py\u001b[0m in \u001b[0;36mpartial_receive\u001b[0;34m(self, length, timeout)\u001b[0m\n\u001b[1;32m     72\u001b[0m         \u001b[0;32massert\u001b[0m \u001b[0mlength\u001b[0m \u001b[0;34m>\u001b[0m \u001b[0;36m0\u001b[0m\u001b[0;34m\u001b[0m\u001b[0;34m\u001b[0m\u001b[0m\n\u001b[1;32m     73\u001b[0m         \u001b[0;32mtry\u001b[0m\u001b[0;34m:\u001b[0m\u001b[0;34m\u001b[0m\u001b[0;34m\u001b[0m\u001b[0m\n\u001b[0;32m---> 74\u001b[0;31m             \u001b[0mready\u001b[0m \u001b[0;34m=\u001b[0m \u001b[0mselect\u001b[0m\u001b[0;34m.\u001b[0m\u001b[0mselect\u001b[0m\u001b[0;34m(\u001b[0m\u001b[0;34m[\u001b[0m\u001b[0mself\u001b[0m\u001b[0;34m.\u001b[0m\u001b[0m_socket\u001b[0m\u001b[0;34m]\u001b[0m\u001b[0;34m,\u001b[0m \u001b[0;34m[\u001b[0m\u001b[0;34m]\u001b[0m\u001b[0;34m,\u001b[0m \u001b[0;34m[\u001b[0m\u001b[0;34m]\u001b[0m\u001b[0;34m,\u001b[0m \u001b[0mtimeout\u001b[0m\u001b[0;34m)\u001b[0m\u001b[0;34m\u001b[0m\u001b[0;34m\u001b[0m\u001b[0m\n\u001b[0m\u001b[1;32m     75\u001b[0m         \u001b[0;32mexcept\u001b[0m \u001b[0mValueError\u001b[0m\u001b[0;34m:\u001b[0m\u001b[0;34m\u001b[0m\u001b[0;34m\u001b[0m\u001b[0m\n\u001b[1;32m     76\u001b[0m             \u001b[0;32mraise\u001b[0m \u001b[0msocket\u001b[0m\u001b[0;34m.\u001b[0m\u001b[0merror\u001b[0m\u001b[0;34m(\u001b[0m\u001b[0;34m\"Connection closed\"\u001b[0m\u001b[0;34m)\u001b[0m\u001b[0;34m\u001b[0m\u001b[0;34m\u001b[0m\u001b[0m\n",
      "\u001b[0;31mKeyboardInterrupt\u001b[0m: "
     ]
    }
   ],
   "source": [
    "while 1:\n",
    "    print(vessel.flight().direction, vessel.flight().heading, end='\\r')\n",
    "    time.sleep(1)"
   ]
  },
  {
   "cell_type": "code",
   "execution_count": 71,
   "metadata": {
    "ExecuteTime": {
     "end_time": "2020-04-17T06:20:50.462028Z",
     "start_time": "2020-04-17T06:20:50.428565Z"
    }
   },
   "outputs": [
    {
     "data": {
      "text/plain": [
       "270.43218994140625"
      ]
     },
     "execution_count": 71,
     "metadata": {},
     "output_type": "execute_result"
    }
   ],
   "source": []
  },
  {
   "cell_type": "code",
   "execution_count": 75,
   "metadata": {
    "ExecuteTime": {
     "end_time": "2020-04-17T06:29:24.600415Z",
     "start_time": "2020-04-17T06:29:24.586764Z"
    }
   },
   "outputs": [
    {
     "data": {
      "text/plain": [
       "<SASMode.stability_assist: 0>"
      ]
     },
     "execution_count": 75,
     "metadata": {},
     "output_type": "execute_result"
    }
   ],
   "source": [
    "vessel.control.sas_mode"
   ]
  },
  {
   "cell_type": "code",
   "execution_count": 73,
   "metadata": {
    "ExecuteTime": {
     "end_time": "2020-04-17T06:23:56.917598Z",
     "start_time": "2020-04-17T06:23:35.301378Z"
    },
    "scrolled": true
   },
   "outputs": [
    {
     "name": "stdout",
     "output_type": "stream",
     "text": [
      "Three\n",
      "Two\n",
      "One\n",
      "Lift Off!\n"
     ]
    },
    {
     "ename": "KeyboardInterrupt",
     "evalue": "",
     "output_type": "error",
     "traceback": [
      "\u001b[0;31m---------------------------------------------------------------------------\u001b[0m",
      "\u001b[0;31mKeyboardInterrupt\u001b[0m                         Traceback (most recent call last)",
      "\u001b[0;32m<ipython-input-73-19860e4f304e>\u001b[0m in \u001b[0;36m<module>\u001b[0;34m\u001b[0m\n\u001b[1;32m     40\u001b[0m \u001b[0;34m\u001b[0m\u001b[0m\n\u001b[1;32m     41\u001b[0m         \u001b[0;31m#MECO\u001b[0m\u001b[0;34m\u001b[0m\u001b[0;34m\u001b[0m\u001b[0;34m\u001b[0m\u001b[0m\n\u001b[0;32m---> 42\u001b[0;31m         \u001b[0;32mif\u001b[0m \u001b[0mvessel\u001b[0m\u001b[0;34m.\u001b[0m\u001b[0morbit\u001b[0m\u001b[0;34m.\u001b[0m\u001b[0mapoapsis\u001b[0m \u001b[0;34m>\u001b[0m \u001b[0;36m690000\u001b[0m\u001b[0;34m:\u001b[0m\u001b[0;34m\u001b[0m\u001b[0;34m\u001b[0m\u001b[0m\n\u001b[0m\u001b[1;32m     43\u001b[0m             \u001b[0mvessel\u001b[0m\u001b[0;34m.\u001b[0m\u001b[0mcontrol\u001b[0m\u001b[0;34m.\u001b[0m\u001b[0mthrottle\u001b[0m \u001b[0;34m=\u001b[0m \u001b[0;36m0\u001b[0m\u001b[0;34m\u001b[0m\u001b[0;34m\u001b[0m\u001b[0m\n\u001b[1;32m     44\u001b[0m             \u001b[0mtime\u001b[0m\u001b[0;34m.\u001b[0m\u001b[0msleep\u001b[0m\u001b[0;34m(\u001b[0m\u001b[0;36m0.5\u001b[0m\u001b[0;34m)\u001b[0m\u001b[0;34m\u001b[0m\u001b[0;34m\u001b[0m\u001b[0m\n",
      "\u001b[0;32m<string>\u001b[0m in \u001b[0;36m<lambda>\u001b[0;34m(self)\u001b[0m\n",
      "\u001b[0;32m~/anaconda3/envs/ksp/lib/python3.8/site-packages/krpc/client.py\u001b[0m in \u001b[0;36m_invoke\u001b[0;34m(self, service, procedure, args, param_names, param_types, return_type)\u001b[0m\n\u001b[1;32m    148\u001b[0m                                 param_names, param_types, return_type)\n\u001b[1;32m    149\u001b[0m         \u001b[0mrequest\u001b[0m \u001b[0;34m=\u001b[0m \u001b[0mKRPC\u001b[0m\u001b[0;34m.\u001b[0m\u001b[0mRequest\u001b[0m\u001b[0;34m(\u001b[0m\u001b[0;34m)\u001b[0m\u001b[0;34m\u001b[0m\u001b[0;34m\u001b[0m\u001b[0m\n\u001b[0;32m--> 150\u001b[0;31m         \u001b[0mrequest\u001b[0m\u001b[0;34m.\u001b[0m\u001b[0mcalls\u001b[0m\u001b[0;34m.\u001b[0m\u001b[0mextend\u001b[0m\u001b[0;34m(\u001b[0m\u001b[0;34m[\u001b[0m\u001b[0mcall\u001b[0m\u001b[0;34m]\u001b[0m\u001b[0;34m)\u001b[0m\u001b[0;34m\u001b[0m\u001b[0;34m\u001b[0m\u001b[0m\n\u001b[0m\u001b[1;32m    151\u001b[0m \u001b[0;34m\u001b[0m\u001b[0m\n\u001b[1;32m    152\u001b[0m         \u001b[0;31m# Send the request\u001b[0m\u001b[0;34m\u001b[0m\u001b[0;34m\u001b[0m\u001b[0;34m\u001b[0m\u001b[0m\n",
      "\u001b[0;31mKeyboardInterrupt\u001b[0m: "
     ]
    }
   ],
   "source": [
    "import time\n",
    "import krpc\n",
    "\n",
    "conn = krpc.connect()\n",
    "\n",
    "vessel = conn.space_center.active_vessel\n",
    "\n",
    "#Countdown Sequence\n",
    "countdown = [\"Three\", \"Two\", \"One\", \"Lift Off!\"]\n",
    "\n",
    "for i in range(len(countdown)):\n",
    "    print(countdown[i])\n",
    "    time.sleep(1)\n",
    "\n",
    "vessel.control.throttle = 1\n",
    "vessel.control.activate_next_stage()\n",
    "\n",
    "#Flight State\n",
    "accentPhase = True\n",
    "cruisePhase = False\n",
    "insertionPhase = False\n",
    "\n",
    "while accentPhase or cruisePhase or insertionPhase:\n",
    "    altitude = vessel.flight().mean_altitude\n",
    "    heading = vessel.flight().heading\n",
    "    \n",
    "    if accentPhase:\n",
    "        targetPitch = 90 * ((50000 - altitude) / 50000)\n",
    "        pitchDiff = vessel.flight().pitch - targetPitch\n",
    "\n",
    "        #Heading Control\n",
    "        if heading < 180:\n",
    "            vessel.control.pitch = (pitchDiff / 90)\n",
    "        else:\n",
    "            vessel.control.pitch = 0.5\n",
    "\n",
    "        #Staging\n",
    "        if vessel.thrust == 0.0:\n",
    "            vessel.control.activate_next_stage()\n",
    "\n",
    "        #MECO\n",
    "        if vessel.orbit.apoapsis > 690000:\n",
    "            vessel.control.throttle = 0\n",
    "            time.sleep(0.5)\n",
    "            vessel.control.activate_next_stage()\n",
    "\n",
    "            vessel.control.sas = True\n",
    "            time.sleep(0.1)\n",
    "            vessel.control.sas_mode = conn.space_center.SASMode.prograde\n",
    "\n",
    "            accentPhase = False\n",
    "            cruisePhase = True\n",
    "    elif cruisePhase:\n",
    "        if altitude > 80000:\n",
    "            cruisePhase = False\n",
    "            insertionPhase = True\n",
    "            vessel.control.sas = False\n",
    "            vessel.control.throttle = 1\n",
    "    elif insertionPhase:\n",
    "        targetPitch = 0\n",
    "        pitchDiff = vessel.flight().pitch - targetPitch\n",
    "\n",
    "        #Heading Control\n",
    "        if heading < 180:\n",
    "            vessel.control.yaw = (pitchDiff / 90)\n",
    "            if vessel.flight().pitch < 1 and vessel.flight().pitch > -1:\n",
    "                vessel.control.sas = True\n",
    "            else:\n",
    "                vessel.control.sas = False\n",
    "        else:\n",
    "            vessel.control.yaw = 0.5\n",
    "\n",
    "        #SECO\n",
    "        if vessel.orbit.periapsis > 690000:\n",
    "            vessel.control.throttle = 0\n",
    "            insertionPhase = False\n",
    "\n",
    "        #Staging\n",
    "        if vessel.thrust == 0.0:\n",
    "            vessel.control.activate_next_stage()\n"
   ]
  },
  {
   "cell_type": "code",
   "execution_count": null,
   "metadata": {},
   "outputs": [],
   "source": []
  },
  {
   "cell_type": "code",
   "execution_count": null,
   "metadata": {},
   "outputs": [],
   "source": []
  },
  {
   "cell_type": "code",
   "execution_count": null,
   "metadata": {},
   "outputs": [],
   "source": []
  }
 ],
 "metadata": {
  "kernelspec": {
   "display_name": "ksp",
   "language": "python",
   "name": "ksp"
  },
  "language_info": {
   "codemirror_mode": {
    "name": "ipython",
    "version": 3
   },
   "file_extension": ".py",
   "mimetype": "text/x-python",
   "name": "python",
   "nbconvert_exporter": "python",
   "pygments_lexer": "ipython3",
   "version": "3.8.2"
  }
 },
 "nbformat": 4,
 "nbformat_minor": 2
}
